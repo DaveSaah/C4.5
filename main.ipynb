{
  "cells": [
    {
      "cell_type": "markdown",
      "metadata": {
        "id": "L_MkWsRtCwtP"
      },
      "source": [
        "## MISC"
      ]
    },
    {
      "cell_type": "code",
      "execution_count": 56,
      "metadata": {
        "id": "SFz34uQCh-7G"
      },
      "outputs": [],
      "source": [
        "import pandas as pd\n",
        "import numpy as np\n",
        "from sklearn.datasets import load_iris, load_breast_cancer\n",
        "import seaborn as sns\n",
        "import matplotlib.pyplot as plt"
      ]
    },
    {
      "cell_type": "markdown",
      "metadata": {
        "id": "eEboLjpis2rr"
      },
      "source": [
        "## Load datasets for Naive Bayes"
      ]
    },
    {
      "cell_type": "code",
      "execution_count": 57,
      "metadata": {
        "colab": {
          "base_uri": "https://localhost:8080/",
          "height": 206
        },
        "id": "ho0Zz6fWq6Cb",
        "outputId": "06f4c58c-5f9b-439e-cfd5-b8e2fc236d40"
      },
      "outputs": [
        {
          "data": {
            "text/html": [
              "<div>\n",
              "<style scoped>\n",
              "    .dataframe tbody tr th:only-of-type {\n",
              "        vertical-align: middle;\n",
              "    }\n",
              "\n",
              "    .dataframe tbody tr th {\n",
              "        vertical-align: top;\n",
              "    }\n",
              "\n",
              "    .dataframe thead th {\n",
              "        text-align: right;\n",
              "    }\n",
              "</style>\n",
              "<table border=\"1\" class=\"dataframe\">\n",
              "  <thead>\n",
              "    <tr style=\"text-align: right;\">\n",
              "      <th></th>\n",
              "      <th>sepal length (cm)</th>\n",
              "      <th>sepal width (cm)</th>\n",
              "      <th>petal length (cm)</th>\n",
              "      <th>petal width (cm)</th>\n",
              "      <th>target</th>\n",
              "    </tr>\n",
              "  </thead>\n",
              "  <tbody>\n",
              "    <tr>\n",
              "      <th>0</th>\n",
              "      <td>5.1</td>\n",
              "      <td>3.5</td>\n",
              "      <td>1.4</td>\n",
              "      <td>0.2</td>\n",
              "      <td>0</td>\n",
              "    </tr>\n",
              "    <tr>\n",
              "      <th>1</th>\n",
              "      <td>4.9</td>\n",
              "      <td>3.0</td>\n",
              "      <td>1.4</td>\n",
              "      <td>0.2</td>\n",
              "      <td>0</td>\n",
              "    </tr>\n",
              "    <tr>\n",
              "      <th>2</th>\n",
              "      <td>4.7</td>\n",
              "      <td>3.2</td>\n",
              "      <td>1.3</td>\n",
              "      <td>0.2</td>\n",
              "      <td>0</td>\n",
              "    </tr>\n",
              "    <tr>\n",
              "      <th>3</th>\n",
              "      <td>4.6</td>\n",
              "      <td>3.1</td>\n",
              "      <td>1.5</td>\n",
              "      <td>0.2</td>\n",
              "      <td>0</td>\n",
              "    </tr>\n",
              "    <tr>\n",
              "      <th>4</th>\n",
              "      <td>5.0</td>\n",
              "      <td>3.6</td>\n",
              "      <td>1.4</td>\n",
              "      <td>0.2</td>\n",
              "      <td>0</td>\n",
              "    </tr>\n",
              "  </tbody>\n",
              "</table>\n",
              "</div>"
            ],
            "text/plain": [
              "   sepal length (cm)  sepal width (cm)  petal length (cm)  petal width (cm)  \\\n",
              "0                5.1               3.5                1.4               0.2   \n",
              "1                4.9               3.0                1.4               0.2   \n",
              "2                4.7               3.2                1.3               0.2   \n",
              "3                4.6               3.1                1.5               0.2   \n",
              "4                5.0               3.6                1.4               0.2   \n",
              "\n",
              "   target  \n",
              "0       0  \n",
              "1       0  \n",
              "2       0  \n",
              "3       0  \n",
              "4       0  "
            ]
          },
          "execution_count": 57,
          "metadata": {},
          "output_type": "execute_result"
        }
      ],
      "source": [
        "iris = load_iris()\n",
        "iris_data = pd.DataFrame(data=iris.data, columns=iris.feature_names)\n",
        "iris_data['target'] = iris.target\n",
        "iris_data.head()"
      ]
    },
    {
      "cell_type": "code",
      "execution_count": 58,
      "metadata": {
        "colab": {
          "base_uri": "https://localhost:8080/"
        },
        "id": "OYQQJ0BUq57O",
        "outputId": "44927250-a7f9-4f16-ed8c-564ab4131681"
      },
      "outputs": [
        {
          "data": {
            "text/plain": [
              "(150, 5)"
            ]
          },
          "execution_count": 58,
          "metadata": {},
          "output_type": "execute_result"
        }
      ],
      "source": [
        "iris_data.shape"
      ]
    },
    {
      "cell_type": "code",
      "execution_count": 59,
      "metadata": {
        "colab": {
          "base_uri": "https://localhost:8080/",
          "height": 290
        },
        "id": "DccKmThWrWAX",
        "outputId": "4cbc0c8e-108f-48c0-8063-a92246578c25"
      },
      "outputs": [
        {
          "data": {
            "text/html": [
              "<div>\n",
              "<style scoped>\n",
              "    .dataframe tbody tr th:only-of-type {\n",
              "        vertical-align: middle;\n",
              "    }\n",
              "\n",
              "    .dataframe tbody tr th {\n",
              "        vertical-align: top;\n",
              "    }\n",
              "\n",
              "    .dataframe thead th {\n",
              "        text-align: right;\n",
              "    }\n",
              "</style>\n",
              "<table border=\"1\" class=\"dataframe\">\n",
              "  <thead>\n",
              "    <tr style=\"text-align: right;\">\n",
              "      <th></th>\n",
              "      <th>mean radius</th>\n",
              "      <th>mean texture</th>\n",
              "      <th>mean perimeter</th>\n",
              "      <th>mean area</th>\n",
              "      <th>mean smoothness</th>\n",
              "      <th>mean compactness</th>\n",
              "      <th>mean concavity</th>\n",
              "      <th>mean concave points</th>\n",
              "      <th>mean symmetry</th>\n",
              "      <th>mean fractal dimension</th>\n",
              "      <th>...</th>\n",
              "      <th>worst texture</th>\n",
              "      <th>worst perimeter</th>\n",
              "      <th>worst area</th>\n",
              "      <th>worst smoothness</th>\n",
              "      <th>worst compactness</th>\n",
              "      <th>worst concavity</th>\n",
              "      <th>worst concave points</th>\n",
              "      <th>worst symmetry</th>\n",
              "      <th>worst fractal dimension</th>\n",
              "      <th>target</th>\n",
              "    </tr>\n",
              "  </thead>\n",
              "  <tbody>\n",
              "    <tr>\n",
              "      <th>0</th>\n",
              "      <td>17.99</td>\n",
              "      <td>10.38</td>\n",
              "      <td>122.80</td>\n",
              "      <td>1001.0</td>\n",
              "      <td>0.11840</td>\n",
              "      <td>0.27760</td>\n",
              "      <td>0.3001</td>\n",
              "      <td>0.14710</td>\n",
              "      <td>0.2419</td>\n",
              "      <td>0.07871</td>\n",
              "      <td>...</td>\n",
              "      <td>17.33</td>\n",
              "      <td>184.60</td>\n",
              "      <td>2019.0</td>\n",
              "      <td>0.1622</td>\n",
              "      <td>0.6656</td>\n",
              "      <td>0.7119</td>\n",
              "      <td>0.2654</td>\n",
              "      <td>0.4601</td>\n",
              "      <td>0.11890</td>\n",
              "      <td>0</td>\n",
              "    </tr>\n",
              "    <tr>\n",
              "      <th>1</th>\n",
              "      <td>20.57</td>\n",
              "      <td>17.77</td>\n",
              "      <td>132.90</td>\n",
              "      <td>1326.0</td>\n",
              "      <td>0.08474</td>\n",
              "      <td>0.07864</td>\n",
              "      <td>0.0869</td>\n",
              "      <td>0.07017</td>\n",
              "      <td>0.1812</td>\n",
              "      <td>0.05667</td>\n",
              "      <td>...</td>\n",
              "      <td>23.41</td>\n",
              "      <td>158.80</td>\n",
              "      <td>1956.0</td>\n",
              "      <td>0.1238</td>\n",
              "      <td>0.1866</td>\n",
              "      <td>0.2416</td>\n",
              "      <td>0.1860</td>\n",
              "      <td>0.2750</td>\n",
              "      <td>0.08902</td>\n",
              "      <td>0</td>\n",
              "    </tr>\n",
              "    <tr>\n",
              "      <th>2</th>\n",
              "      <td>19.69</td>\n",
              "      <td>21.25</td>\n",
              "      <td>130.00</td>\n",
              "      <td>1203.0</td>\n",
              "      <td>0.10960</td>\n",
              "      <td>0.15990</td>\n",
              "      <td>0.1974</td>\n",
              "      <td>0.12790</td>\n",
              "      <td>0.2069</td>\n",
              "      <td>0.05999</td>\n",
              "      <td>...</td>\n",
              "      <td>25.53</td>\n",
              "      <td>152.50</td>\n",
              "      <td>1709.0</td>\n",
              "      <td>0.1444</td>\n",
              "      <td>0.4245</td>\n",
              "      <td>0.4504</td>\n",
              "      <td>0.2430</td>\n",
              "      <td>0.3613</td>\n",
              "      <td>0.08758</td>\n",
              "      <td>0</td>\n",
              "    </tr>\n",
              "    <tr>\n",
              "      <th>3</th>\n",
              "      <td>11.42</td>\n",
              "      <td>20.38</td>\n",
              "      <td>77.58</td>\n",
              "      <td>386.1</td>\n",
              "      <td>0.14250</td>\n",
              "      <td>0.28390</td>\n",
              "      <td>0.2414</td>\n",
              "      <td>0.10520</td>\n",
              "      <td>0.2597</td>\n",
              "      <td>0.09744</td>\n",
              "      <td>...</td>\n",
              "      <td>26.50</td>\n",
              "      <td>98.87</td>\n",
              "      <td>567.7</td>\n",
              "      <td>0.2098</td>\n",
              "      <td>0.8663</td>\n",
              "      <td>0.6869</td>\n",
              "      <td>0.2575</td>\n",
              "      <td>0.6638</td>\n",
              "      <td>0.17300</td>\n",
              "      <td>0</td>\n",
              "    </tr>\n",
              "    <tr>\n",
              "      <th>4</th>\n",
              "      <td>20.29</td>\n",
              "      <td>14.34</td>\n",
              "      <td>135.10</td>\n",
              "      <td>1297.0</td>\n",
              "      <td>0.10030</td>\n",
              "      <td>0.13280</td>\n",
              "      <td>0.1980</td>\n",
              "      <td>0.10430</td>\n",
              "      <td>0.1809</td>\n",
              "      <td>0.05883</td>\n",
              "      <td>...</td>\n",
              "      <td>16.67</td>\n",
              "      <td>152.20</td>\n",
              "      <td>1575.0</td>\n",
              "      <td>0.1374</td>\n",
              "      <td>0.2050</td>\n",
              "      <td>0.4000</td>\n",
              "      <td>0.1625</td>\n",
              "      <td>0.2364</td>\n",
              "      <td>0.07678</td>\n",
              "      <td>0</td>\n",
              "    </tr>\n",
              "  </tbody>\n",
              "</table>\n",
              "<p>5 rows × 31 columns</p>\n",
              "</div>"
            ],
            "text/plain": [
              "   mean radius  mean texture  mean perimeter  mean area  mean smoothness  \\\n",
              "0        17.99         10.38          122.80     1001.0          0.11840   \n",
              "1        20.57         17.77          132.90     1326.0          0.08474   \n",
              "2        19.69         21.25          130.00     1203.0          0.10960   \n",
              "3        11.42         20.38           77.58      386.1          0.14250   \n",
              "4        20.29         14.34          135.10     1297.0          0.10030   \n",
              "\n",
              "   mean compactness  mean concavity  mean concave points  mean symmetry  \\\n",
              "0           0.27760          0.3001              0.14710         0.2419   \n",
              "1           0.07864          0.0869              0.07017         0.1812   \n",
              "2           0.15990          0.1974              0.12790         0.2069   \n",
              "3           0.28390          0.2414              0.10520         0.2597   \n",
              "4           0.13280          0.1980              0.10430         0.1809   \n",
              "\n",
              "   mean fractal dimension  ...  worst texture  worst perimeter  worst area  \\\n",
              "0                 0.07871  ...          17.33           184.60      2019.0   \n",
              "1                 0.05667  ...          23.41           158.80      1956.0   \n",
              "2                 0.05999  ...          25.53           152.50      1709.0   \n",
              "3                 0.09744  ...          26.50            98.87       567.7   \n",
              "4                 0.05883  ...          16.67           152.20      1575.0   \n",
              "\n",
              "   worst smoothness  worst compactness  worst concavity  worst concave points  \\\n",
              "0            0.1622             0.6656           0.7119                0.2654   \n",
              "1            0.1238             0.1866           0.2416                0.1860   \n",
              "2            0.1444             0.4245           0.4504                0.2430   \n",
              "3            0.2098             0.8663           0.6869                0.2575   \n",
              "4            0.1374             0.2050           0.4000                0.1625   \n",
              "\n",
              "   worst symmetry  worst fractal dimension  target  \n",
              "0          0.4601                  0.11890       0  \n",
              "1          0.2750                  0.08902       0  \n",
              "2          0.3613                  0.08758       0  \n",
              "3          0.6638                  0.17300       0  \n",
              "4          0.2364                  0.07678       0  \n",
              "\n",
              "[5 rows x 31 columns]"
            ]
          },
          "execution_count": 59,
          "metadata": {},
          "output_type": "execute_result"
        }
      ],
      "source": [
        "breast_cancer = load_breast_cancer()\n",
        "breast_cancer_data = pd.DataFrame(data=breast_cancer.data, columns=breast_cancer.feature_names)\n",
        "breast_cancer_data['target'] = breast_cancer.target\n",
        "breast_cancer_data.head()"
      ]
    },
    {
      "cell_type": "code",
      "execution_count": 60,
      "metadata": {
        "colab": {
          "base_uri": "https://localhost:8080/"
        },
        "id": "-7MVjaZLr9aa",
        "outputId": "1584911b-d6bc-493c-9e59-967b8b369569"
      },
      "outputs": [
        {
          "data": {
            "text/plain": [
              "(569, 31)"
            ]
          },
          "execution_count": 60,
          "metadata": {},
          "output_type": "execute_result"
        }
      ],
      "source": [
        "breast_cancer_data.shape"
      ]
    },
    {
      "cell_type": "markdown",
      "metadata": {
        "id": "XA0KQ9mns53E"
      },
      "source": [
        "## Naive Bayes Algorithm"
      ]
    },
    {
      "cell_type": "code",
      "execution_count": 61,
      "metadata": {
        "id": "z74ce8g7h-4P"
      },
      "outputs": [],
      "source": [
        "def fit_naive_bayes(attributes, target):\n",
        "    target_probs = {}\n",
        "    attributes_probs = {}\n",
        "\n",
        "    # Calculate target probabilities\n",
        "    unique_target_counts = target.value_counts()    #O(n) time complexity of the value counts function\n",
        "    total_samples = len(target)\n",
        "    for target_label, count in unique_target_counts.items():\n",
        "        target_probs[target_label] = count / total_samples\n",
        "\n",
        "    # Calculate feature probabilities\n",
        "    for feature in attributes.columns:\n",
        "        attributes_probs[feature] = {}\n",
        "        for target_label in target_probs:\n",
        "            target_subset = attributes[target == target_label][feature]\n",
        "            feature_value_counts = target_subset.value_counts()\n",
        "            total_class_samples = len(target_subset)\n",
        "            attributes_probs[feature][target_label] = {}\n",
        "            for value, count in feature_value_counts.items():\n",
        "                attributes_probs[feature][target_label][value] = count / total_class_samples\n",
        "    return target_probs, attributes_probs\n"
      ]
    },
    {
      "cell_type": "markdown",
      "metadata": {
        "id": "Wzp4OVdQtBpy"
      },
      "source": [
        "## C4.5 Algorithm"
      ]
    },
    {
      "cell_type": "code",
      "execution_count": 62,
      "metadata": {
        "id": "4uiu0IUOth1n"
      },
      "outputs": [],
      "source": [
        "class Node:\n",
        "    def __init__(self, isLeaf, label, threshold):\n",
        "        self.label = label\n",
        "        self.threshold = threshold\n",
        "        self.isLeaf = isLeaf\n",
        "        self.children = []"
      ]
    },
    {
      "cell_type": "code",
      "execution_count": 63,
      "metadata": {
        "id": "XWUGFbzJh-16"
      },
      "outputs": [],
      "source": [
        "import math\n",
        "\n",
        "\n",
        "class C45:\n",
        "    \"\"\"Creates a decision tree with C4.5 algorithm\"\"\"\n",
        "\n",
        "    def __init__(self, pathToData, pathToNames):\n",
        "        self.filePathToData = pathToData\n",
        "        self.filePathToNames = pathToNames\n",
        "        self.data = []\n",
        "        self.classes = []\n",
        "        self.numAttributes = -1\n",
        "        self.attrValues = {}\n",
        "        self.attributes = []\n",
        "        self.tree = None\n",
        "\n",
        "    def fetchData(self):\n",
        "        with open(self.filePathToNames, \"r\") as file:\n",
        "            classes = file.readline()\n",
        "            self.classes = [x.strip() for x in classes.split(\",\")]\n",
        "            # add attributes\n",
        "            for line in file:\n",
        "                [attribute, values] = [x.strip() for x in line.split(\":\")]\n",
        "                values = [x.strip() for x in values.split(\",\")]\n",
        "                self.attrValues[attribute] = values\n",
        "        self.numAttributes = len(self.attrValues.keys())\n",
        "        self.attributes = list(self.attrValues.keys())\n",
        "        with open(self.filePathToData, \"r\") as file:\n",
        "            for line in file:\n",
        "                row = [x.strip() for x in line.split(\",\")]\n",
        "                if row != [] or row != [\"\"]:\n",
        "                    self.data.append(row)\n",
        "\n",
        "    def preprocessData(self):\n",
        "        for index, row in enumerate(self.data):\n",
        "            for attr_index in range(self.numAttributes):\n",
        "                if not self.isAttrDiscrete(self.attributes[attr_index]):\n",
        "                    self.data[index][attr_index] = float(\n",
        "                        self.data[index][attr_index])\n",
        "\n",
        "    def printTree(self):\n",
        "        self.printNode(self.tree)\n",
        "\n",
        "    def printNode(self, node, indent=\"\"):\n",
        "        if not node.isLeaf:\n",
        "            if node.threshold is None:\n",
        "                # discrete\n",
        "                for index, child in enumerate(node.children):\n",
        "                    if child.isLeaf:\n",
        "                        print(\n",
        "                            indent\n",
        "                            + node.label\n",
        "                            + \" = \"\n",
        "                            + self.attributes[index]\n",
        "                            + \" : \"\n",
        "                            + child.label\n",
        "                        )\n",
        "                    else:\n",
        "                        print(\n",
        "                            indent + node.label + \" = \" +\n",
        "                            self.attributes[index] + \" : \"\n",
        "                        )\n",
        "                        self.printNode(child, indent + \"\t\")\n",
        "            else:\n",
        "                # numerical\n",
        "                leftChild = node.children[0]\n",
        "                rightChild = node.children[1]\n",
        "                if leftChild.isLeaf:\n",
        "                    print(\n",
        "                        indent\n",
        "                        + node.label\n",
        "                        + \" <= \"\n",
        "                        + str(node.threshold)\n",
        "                        + \" : \"\n",
        "                        + leftChild.label\n",
        "                    )\n",
        "                else:\n",
        "                    print(indent + node.label + \" <= \" +\n",
        "                          str(node.threshold) + \" : \")\n",
        "                    self.printNode(leftChild, indent + \"\t\")\n",
        "\n",
        "                if rightChild.isLeaf:\n",
        "                    print(\n",
        "                        indent\n",
        "                        + node.label\n",
        "                        + \" > \"\n",
        "                        + str(node.threshold)\n",
        "                        + \" : \"\n",
        "                        + rightChild.label\n",
        "                    )\n",
        "                else:\n",
        "                    print(indent + node.label + \" > \" +\n",
        "                          str(node.threshold) + \" : \")\n",
        "                    self.printNode(rightChild, indent + \"\t\")\n",
        "\n",
        "    def generateTree(self):\n",
        "        self.tree = self.recursiveGenerateTree(self.data, self.attributes)\n",
        "\n",
        "    def recursiveGenerateTree(self, curData, curAttributes):\n",
        "        allSame = self.allSameClass(curData)\n",
        "\n",
        "        if len(curData) == 0:\n",
        "            # Fail\n",
        "            return Node(True, \"Fail\", None)\n",
        "        elif allSame is not False:\n",
        "            # return a node with that class\n",
        "            return Node(True, allSame, None)\n",
        "        elif len(curAttributes) == 0:\n",
        "            # return a node with the majority class\n",
        "            majClass = self.getMajClass(curData)\n",
        "            return Node(True, majClass, None)\n",
        "        else:\n",
        "            (best, best_threshold, splitted) = self.splitAttribute(\n",
        "                curData, curAttributes\n",
        "            )\n",
        "            remainingAttributes = curAttributes[:]\n",
        "            remainingAttributes.remove(best)\n",
        "            node = Node(False, best, best_threshold)\n",
        "            node.children = [\n",
        "                self.recursiveGenerateTree(subset, remainingAttributes)\n",
        "                for subset in splitted\n",
        "            ]\n",
        "            return node\n",
        "\n",
        "    def getMajClass(self, curData):\n",
        "        freq = [0] * len(self.classes)\n",
        "        for row in curData:\n",
        "            index = self.classes.index(row[-1])\n",
        "            freq[index] += 1\n",
        "        maxInd = freq.index(max(freq))\n",
        "        return self.classes[maxInd]\n",
        "\n",
        "    def allSameClass(self, data):\n",
        "        for row in data:\n",
        "            if row[-1] != data[0][-1]:\n",
        "                return False\n",
        "        return data[0][-1]\n",
        "\n",
        "    def isAttrDiscrete(self, attribute):\n",
        "        if attribute not in self.attributes:\n",
        "            raise ValueError(\"Attribute not listed\")\n",
        "        elif (\n",
        "            len(self.attrValues[attribute]) == 1\n",
        "            and self.attrValues[attribute][0] == \"continuous\"\n",
        "        ):\n",
        "            return False\n",
        "        else:\n",
        "            return True\n",
        "\n",
        "    def splitAttribute(self, curData, curAttributes):\n",
        "        splitted = []\n",
        "        maxEnt = -1 * float(\"inf\")\n",
        "        best_attribute = -1\n",
        "        # None for discrete attributes,\n",
        "        # threshold value for continuous attributes\n",
        "        best_threshold = None\n",
        "        for attribute in curAttributes:\n",
        "            indexOfAttribute = self.attributes.index(attribute)\n",
        "            if self.isAttrDiscrete(attribute):\n",
        "                # split curData into n-subsets, where n is the number of\n",
        "                # different values of attribute i. Choose the attribute with\n",
        "                # the max gain\n",
        "                valuesForAttribute = self.attrValues[attribute]\n",
        "                subsets = [[] for a in valuesForAttribute]\n",
        "                for row in curData:\n",
        "                    for index in range(len(valuesForAttribute)):\n",
        "                        if row[index] == valuesForAttribute[index]:\n",
        "                            subsets[index].append(row)\n",
        "                            break\n",
        "                e = self.gain(curData, subsets)\n",
        "                if e > maxEnt:\n",
        "                    maxEnt = e\n",
        "                    splitted = subsets\n",
        "                    best_attribute = attribute\n",
        "                    best_threshold = None\n",
        "            else:\n",
        "                # sort the data according to the column.Then try all\n",
        "                # possible adjacent pairs. Choose the one that\n",
        "                # yields maximum gain\n",
        "                curData.sort(key=lambda x: x[indexOfAttribute])\n",
        "                for j in range(0, len(curData) - 1):\n",
        "                    if curData[j][indexOfAttribute] != curData[j + 1][indexOfAttribute]:\n",
        "                        threshold = (\n",
        "                            curData[j][indexOfAttribute]\n",
        "                            + curData[j + 1][indexOfAttribute]\n",
        "                        ) / 2\n",
        "                        less = []\n",
        "                        greater = []\n",
        "                        for row in curData:\n",
        "                            if row[indexOfAttribute] > threshold:\n",
        "                                greater.append(row)\n",
        "                            else:\n",
        "                                less.append(row)\n",
        "                        e = self.gain(curData, [less, greater])\n",
        "                        if e >= maxEnt:\n",
        "                            splitted = [less, greater]\n",
        "                            maxEnt = e\n",
        "                            best_attribute = attribute\n",
        "                            best_threshold = threshold\n",
        "        return (best_attribute, best_threshold, splitted)\n",
        "\n",
        "    def gain(self, unionSet, subsets):\n",
        "        # input : data and disjoint subsets of it\n",
        "        # output : information gain\n",
        "        S = len(unionSet)\n",
        "        # calculate impurity before split\n",
        "        impurityBeforeSplit = self.entropy(unionSet)\n",
        "        # calculate impurity after split\n",
        "        weights = [len(subset) / S for subset in subsets]\n",
        "        impurityAfterSplit = 0\n",
        "        for i in range(len(subsets)):\n",
        "            impurityAfterSplit += weights[i] * self.entropy(subsets[i])\n",
        "        # calculate total gain\n",
        "        totalGain = impurityBeforeSplit - impurityAfterSplit\n",
        "        return totalGain\n",
        "\n",
        "    def entropy(self, dataSet):\n",
        "        S = len(dataSet)\n",
        "        if S == 0:\n",
        "            return 0\n",
        "        num_classes = [0 for i in self.classes]\n",
        "        for row in dataSet:\n",
        "            classIndex = list(self.classes).index(row[-1])\n",
        "            num_classes[classIndex] += 1\n",
        "        num_classes = [x / S for x in num_classes]\n",
        "        ent = 0\n",
        "        for num in num_classes:\n",
        "            ent += num * self.log(num)\n",
        "        return ent * -1\n",
        "\n",
        "    def log(self, x):\n",
        "        if x == 0:\n",
        "            return 0\n",
        "        else:\n",
        "            return math.log(x, 2)"
      ]
    },
    {
      "cell_type": "markdown",
      "metadata": {
        "id": "3k0FfksRuEHK"
      },
      "source": [
        "## Data Mining C4.5"
      ]
    },
    {
      "cell_type": "markdown",
      "metadata": {
        "id": "hCAeAAFm5Jk3"
      },
      "source": [
        "### Iris"
      ]
    },
    {
      "cell_type": "code",
      "execution_count": 64,
      "metadata": {
        "id": "nWKTR1Ojh-zT"
      },
      "outputs": [],
      "source": [
        "iris_c45_50 = C45(\"./data/iris/iris_50.data\", \"./data/iris/iris.names\")\n",
        "iris_c45_50.fetchData()\n",
        "iris_c45_50.preprocessData()\n",
        "\n",
        "iris_c45_80 = C45(\"./data/iris/iris_80.data\", \"./data/iris/iris.names\")\n",
        "iris_c45_80.fetchData()\n",
        "iris_c45_80.preprocessData()\n",
        "\n",
        "iris_c45_100 = C45(\"./data/iris/iris_100.data\", \"./data/iris/iris.names\")\n",
        "iris_c45_100.fetchData()\n",
        "iris_c45_100.preprocessData()\n",
        "\n",
        "iris_c45_120 = C45(\"./data/iris/iris_120.data\", \"./data/iris/iris.names\")\n",
        "iris_c45_120.fetchData()\n",
        "iris_c45_120.preprocessData()\n",
        "\n",
        "iris_c45_130 = C45(\"./data/iris/iris_130.data\", \"./data/iris/iris.names\")\n",
        "iris_c45_130.fetchData()\n",
        "iris_c45_130.preprocessData()\n",
        "\n",
        "iris_c45_150 = C45(\"./data/iris/iris.data\", \"./data/iris/iris.names\")\n",
        "iris_c45_150.fetchData()\n",
        "iris_c45_150.preprocessData()"
      ]
    },
    {
      "cell_type": "code",
      "execution_count": 65,
      "metadata": {
        "id": "NV-Ix1pHvd-0"
      },
      "outputs": [],
      "source": [
        "import time\n",
        "\n",
        "iris_n = [50, 80, 100, 120, 130, 150]\n",
        "iris_execution_time = []"
      ]
    },
    {
      "cell_type": "code",
      "execution_count": 66,
      "metadata": {
        "id": "QRoecK8Jh-xM"
      },
      "outputs": [],
      "source": [
        "start_time = time.time()\n",
        "iris_c45_50.generateTree()\n",
        "end_time = time.time()\n",
        "\n",
        "runtime = (end_time - start_time) * 1000\n",
        "iris_execution_time.append(runtime)"
      ]
    },
    {
      "cell_type": "code",
      "execution_count": 67,
      "metadata": {
        "id": "OZDUZyKI3ShW"
      },
      "outputs": [],
      "source": [
        "start_time = time.time()\n",
        "iris_c45_80.generateTree()\n",
        "end_time = time.time()\n",
        "\n",
        "runtime = (end_time - start_time) * 1000\n",
        "iris_execution_time.append(runtime)"
      ]
    },
    {
      "cell_type": "code",
      "execution_count": 68,
      "metadata": {
        "id": "y68hV0hX3Ufw"
      },
      "outputs": [],
      "source": [
        "start_time = time.time()\n",
        "iris_c45_100.generateTree()\n",
        "end_time = time.time()\n",
        "\n",
        "runtime = (end_time - start_time) * 1000\n",
        "iris_execution_time.append(runtime)"
      ]
    },
    {
      "cell_type": "code",
      "execution_count": 69,
      "metadata": {
        "id": "YKLry1rMvGou"
      },
      "outputs": [],
      "source": [
        "start_time = time.time()\n",
        "iris_c45_120.generateTree()\n",
        "end_time = time.time()\n",
        "\n",
        "runtime = (end_time - start_time) * 1000\n",
        "iris_execution_time.append(runtime)"
      ]
    },
    {
      "cell_type": "code",
      "execution_count": 70,
      "metadata": {
        "id": "Ob2to9o9vGhD"
      },
      "outputs": [],
      "source": [
        "start_time = time.time()\n",
        "iris_c45_130.generateTree()\n",
        "end_time = time.time()\n",
        "\n",
        "runtime = (end_time - start_time) * 1000\n",
        "iris_execution_time.append(runtime)"
      ]
    },
    {
      "cell_type": "code",
      "execution_count": 71,
      "metadata": {
        "id": "Yl8UuW-L4bSC"
      },
      "outputs": [],
      "source": [
        "start_time = time.time()\n",
        "iris_c45_150.generateTree()\n",
        "end_time = time.time()\n",
        "\n",
        "runtime = (end_time - start_time) * 1000\n",
        "iris_execution_time.append(runtime)"
      ]
    },
    {
      "cell_type": "code",
      "execution_count": 72,
      "metadata": {
        "colab": {
          "base_uri": "https://localhost:8080/"
        },
        "id": "21kvbrzD4bPO",
        "outputId": "11f59393-c726-4da1-d0ef-d5e858bba5f0"
      },
      "outputs": [
        {
          "data": {
            "text/plain": [
              "[0.09989738464355469,\n",
              " 6.708621978759766,\n",
              " 8.702516555786133,\n",
              " 22.174835205078125,\n",
              " 25.88820457458496,\n",
              " 28.856277465820312]"
            ]
          },
          "execution_count": 72,
          "metadata": {},
          "output_type": "execute_result"
        }
      ],
      "source": [
        "iris_execution_time"
      ]
    },
    {
      "cell_type": "code",
      "execution_count": 73,
      "metadata": {
        "colab": {
          "base_uri": "https://localhost:8080/",
          "height": 472
        },
        "id": "X03OYmes8XIm",
        "outputId": "6e9135c0-cb43-488f-fa53-96bc202fbbba"
      },
      "outputs": [
        {
          "data": {
            "image/png": "[encoded data removed]",
            "text/plain": [
              "<Figure size 640x480 with 1 Axes>"
            ]
          },
          "metadata": {},
          "output_type": "display_data"
        }
      ],
      "source": [
        "sns.lineplot(x=iris_n, y=iris_execution_time, marker='o')\n",
        "plt.xlabel('Input Size')\n",
        "plt.ylabel('Execution Time (milliseconds)')\n",
        "plt.title('C4.5 Time Complexity for Iris Dataset')\n",
        "plt.grid(True)\n",
        "plt.show()"
      ]
    },
    {
      "cell_type": "markdown",
      "metadata": {
        "id": "E53-anb15XoJ"
      },
      "source": [
        "### Breast Cancer"
      ]
    },
    {
      "cell_type": "code",
      "execution_count": 74,
      "metadata": {
        "id": "JiuY4Uzt4bM1"
      },
      "outputs": [],
      "source": [
        "breast_cancer_n = [100, 200, 300, 400, 500, 569]\n",
        "breast_cancer_execution_time = []"
      ]
    },
    {
      "cell_type": "code",
      "execution_count": 75,
      "metadata": {
        "id": "9vaG7lych-un"
      },
      "outputs": [],
      "source": [
        "breast_cancer_c45_100 = C45(\"./data/breast_cancer/breast_cancer_100.data\", \"./data/breast_cancer/breast_cancer.names\")\n",
        "breast_cancer_c45_100.fetchData()\n",
        "breast_cancer_c45_100.preprocessData()\n",
        "\n",
        "breast_cancer_c45_200 = C45(\"./data/breast_cancer/breast_cancer_200.data\", \"./data/breast_cancer/breast_cancer.names\")\n",
        "breast_cancer_c45_200.fetchData()\n",
        "breast_cancer_c45_200.preprocessData()\n",
        "\n",
        "breast_cancer_c45_300 = C45(\"./data/breast_cancer/breast_cancer_300.data\", \"./data/breast_cancer/breast_cancer.names\")\n",
        "breast_cancer_c45_300.fetchData()\n",
        "breast_cancer_c45_300.preprocessData()\n",
        "\n",
        "breast_cancer_c45_400 = C45(\"./data/breast_cancer/breast_cancer_400.data\", \"./data/breast_cancer/breast_cancer.names\")\n",
        "breast_cancer_c45_400.fetchData()\n",
        "breast_cancer_c45_400.preprocessData()\n",
        "\n",
        "breast_cancer_c45_500 = C45(\"./data/breast_cancer/breast_cancer_500.data\", \"./data/breast_cancer/breast_cancer.names\")\n",
        "breast_cancer_c45_500.fetchData()\n",
        "breast_cancer_c45_500.preprocessData()\n",
        "\n",
        "breast_cancer_c45_n = C45(\"./data/breast_cancer/breast_cancer.data\", \"./data/breast_cancer/breast_cancer.names\")\n",
        "breast_cancer_c45_n.fetchData()\n",
        "breast_cancer_c45_n.preprocessData()"
      ]
    },
    {
      "cell_type": "code",
      "execution_count": 76,
      "metadata": {
        "id": "EVS5Km1uh-sF"
      },
      "outputs": [],
      "source": [
        "start_time = time.time()\n",
        "\n",
        "breast_cancer_c45_100.generateTree()\n",
        "\n",
        "end_time = time.time()\n",
        "\n",
        "# Calculate the runtime\n",
        "runtime = (end_time - start_time) * 1000\n",
        "breast_cancer_execution_time.append(runtime)"
      ]
    },
    {
      "cell_type": "code",
      "execution_count": 77,
      "metadata": {
        "id": "KI-UHprAvOqY"
      },
      "outputs": [],
      "source": [
        "start_time = time.time()\n",
        "\n",
        "breast_cancer_c45_200.generateTree()\n",
        "\n",
        "end_time = time.time()\n",
        "\n",
        "# Calculate the runtime\n",
        "runtime = (end_time - start_time) * 1000\n",
        "breast_cancer_execution_time.append(runtime)"
      ]
    },
    {
      "cell_type": "code",
      "execution_count": 78,
      "metadata": {
        "id": "KBCghkCivOhU"
      },
      "outputs": [],
      "source": [
        "start_time = time.time()\n",
        "\n",
        "breast_cancer_c45_300.generateTree()\n",
        "\n",
        "end_time = time.time()\n",
        "\n",
        "# Calculate the runtime\n",
        "runtime = (end_time - start_time) * 1000\n",
        "breast_cancer_execution_time.append(runtime)"
      ]
    },
    {
      "cell_type": "code",
      "execution_count": 79,
      "metadata": {
        "id": "OioypOoe74I2"
      },
      "outputs": [],
      "source": [
        "start_time = time.time()\n",
        "\n",
        "breast_cancer_c45_400.generateTree()\n",
        "\n",
        "end_time = time.time()\n",
        "\n",
        "# Calculate the runtime\n",
        "runtime = (end_time - start_time) * 1000\n",
        "breast_cancer_execution_time.append(runtime)"
      ]
    },
    {
      "cell_type": "code",
      "execution_count": 80,
      "metadata": {
        "id": "WfuzK_zo74GD"
      },
      "outputs": [],
      "source": [
        "start_time = time.time()\n",
        "\n",
        "breast_cancer_c45_500.generateTree()\n",
        "\n",
        "end_time = time.time()\n",
        "\n",
        "# Calculate the runtime\n",
        "runtime = (end_time - start_time) * 1000\n",
        "breast_cancer_execution_time.append(runtime)"
      ]
    },
    {
      "cell_type": "code",
      "execution_count": 81,
      "metadata": {
        "id": "bOWXJzcW74D2"
      },
      "outputs": [],
      "source": [
        "start_time = time.time()\n",
        "\n",
        "breast_cancer_c45_n.generateTree()\n",
        "\n",
        "end_time = time.time()\n",
        "\n",
        "# Calculate the runtime\n",
        "runtime = (end_time - start_time) * 1000\n",
        "breast_cancer_execution_time.append(runtime)"
      ]
    },
    {
      "cell_type": "code",
      "execution_count": 82,
      "metadata": {
        "colab": {
          "base_uri": "https://localhost:8080/"
        },
        "id": "FwyIKMqU74B3",
        "outputId": "f86fb54d-67d8-4cad-ff01-f4113c03adbe"
      },
      "outputs": [
        {
          "data": {
            "text/plain": [
              "[426.1586666107178,\n",
              " 1582.68141746521,\n",
              " 3139.559030532837,\n",
              " 5863.903284072876,\n",
              " 10366.029262542725,\n",
              " 13952.505588531494]"
            ]
          },
          "execution_count": 82,
          "metadata": {},
          "output_type": "execute_result"
        }
      ],
      "source": [
        "breast_cancer_execution_time"
      ]
    },
    {
      "cell_type": "code",
      "execution_count": 83,
      "metadata": {
        "colab": {
          "base_uri": "https://localhost:8080/",
          "height": 472
        },
        "id": "TRcxVWaW73_l",
        "outputId": "73a64720-8e8a-4e3f-9125-9e7a14160916"
      },
      "outputs": [
        {
          "data": {
            "image/png": "[encoded data removed]",
            "text/plain": [
              "<Figure size 640x480 with 1 Axes>"
            ]
          },
          "metadata": {},
          "output_type": "display_data"
        }
      ],
      "source": [
        "sns.lineplot(x=breast_cancer_n, y=breast_cancer_execution_time, marker='o')\n",
        "plt.xlabel('Input Size')\n",
        "plt.ylabel('Execution Time (seconds)')\n",
        "plt.title('C4.5 Time Complexity for Breast Cancer Dataset')\n",
        "plt.grid(True)\n",
        "plt.show()"
      ]
    },
    {
      "cell_type": "markdown",
      "metadata": {
        "id": "H8Vbh3tHuInR"
      },
      "source": [
        "## Data Mining Naive Bayes"
      ]
    },
    {
      "cell_type": "markdown",
      "metadata": {
        "id": "bIJNmduiJpGb"
      },
      "source": [
        "### Iris"
      ]
    },
    {
      "cell_type": "code",
      "execution_count": 84,
      "metadata": {
        "id": "0m1dDRt4h-pp"
      },
      "outputs": [],
      "source": [
        "# Separate features and target variable\n",
        "iris_attributes = iris_data.drop(columns=['target'])\n",
        "iris_target = iris_data['target']"
      ]
    },
    {
      "cell_type": "code",
      "execution_count": 85,
      "metadata": {
        "id": "ZBSMkcLn39xR"
      },
      "outputs": [],
      "source": [
        "# Selecting rows\n",
        "first_50_iris_attributes = iris_attributes.iloc[:50]\n",
        "first_50_iris_target = iris_target.iloc[:50]\n",
        "\n",
        "\n",
        "first_80_iris_attributes = iris_attributes.iloc[:80]\n",
        "first_80_iris_target = iris_target.iloc[:80]\n",
        "\n",
        "\n",
        "first_100_iris_attributes = iris_attributes.iloc[:100]\n",
        "first_100_iris_target = iris_target.iloc[:100]\n",
        "\n",
        "\n",
        "\n",
        "first_120_iris_attributes = iris_attributes.iloc[:120]\n",
        "first_120_iris_target = iris_target.iloc[:120]\n",
        "\n",
        "\n",
        "first_130_iris_attributes = iris_attributes.iloc[:130]\n",
        "first_130_iris_target = iris_target.iloc[:130]\n",
        "\n",
        "\n",
        "first_150_iris_attributes = iris_attributes"
      ]
    },
    {
      "cell_type": "code",
      "execution_count": 86,
      "metadata": {
        "id": "zeEByUBLx_1b"
      },
      "outputs": [],
      "source": [
        "x_iris = [50,80,100,120,130,150]\n",
        "y_iris=[]"
      ]
    },
    {
      "cell_type": "code",
      "execution_count": 87,
      "metadata": {
        "id": "uzicREz-JXJj"
      },
      "outputs": [],
      "source": [
        "start_time = time.time()\n",
        "\n",
        "# Train Naive Bayes classifier\n",
        "fit_naive_bayes(first_50_iris_attributes, first_50_iris_target)\n",
        "\n",
        "end_time = time.time()\n",
        "\n",
        "# Calculate the runtime\n",
        "runtime = (end_time - start_time) * 1000\n",
        "\n",
        "y_iris.append(runtime)"
      ]
    },
    {
      "cell_type": "code",
      "execution_count": 88,
      "metadata": {
        "id": "HClzdIVIJZyZ"
      },
      "outputs": [],
      "source": [
        "start_time = time.time()\n",
        "\n",
        "# Train Naive Bayes classifier\n",
        "fit_naive_bayes(first_80_iris_attributes, first_80_iris_target)\n",
        "\n",
        "end_time = time.time()\n",
        "\n",
        "# Calculate the runtime\n",
        "runtime = (end_time - start_time) * 1000\n",
        "\n",
        "y_iris.append(runtime)"
      ]
    },
    {
      "cell_type": "code",
      "execution_count": 89,
      "metadata": {
        "id": "vU7k9mh9Jain"
      },
      "outputs": [],
      "source": [
        "start_time = time.time()\n",
        "\n",
        "# Train Naive Bayes classifier\n",
        "fit_naive_bayes(first_100_iris_attributes, first_100_iris_target)\n",
        "\n",
        "end_time = time.time()\n",
        "\n",
        "# Calculate the runtime\n",
        "runtime = (end_time - start_time) * 1000\n",
        "\n",
        "y_iris.append(runtime)"
      ]
    },
    {
      "cell_type": "code",
      "execution_count": 90,
      "metadata": {
        "id": "ebOk1bQSJaf0"
      },
      "outputs": [],
      "source": [
        "start_time = time.time()\n",
        "\n",
        "# Train Naive Bayes classifier\n",
        "fit_naive_bayes(first_120_iris_attributes, first_120_iris_target)\n",
        "\n",
        "end_time = time.time()\n",
        "\n",
        "# Calculate the runtime\n",
        "runtime = (end_time - start_time) * 1000\n",
        "\n",
        "y_iris.append(runtime)"
      ]
    },
    {
      "cell_type": "code",
      "execution_count": 91,
      "metadata": {
        "id": "sc_XNODBJadW"
      },
      "outputs": [],
      "source": [
        "start_time = time.time()\n",
        "\n",
        "# Train Naive Bayes classifier\n",
        "fit_naive_bayes(first_130_iris_attributes, first_130_iris_target)\n",
        "\n",
        "end_time = time.time()\n",
        "\n",
        "# Calculate the runtime\n",
        "runtime = (end_time - start_time) * 1000\n",
        "\n",
        "y_iris.append(runtime)"
      ]
    },
    {
      "cell_type": "code",
      "execution_count": 92,
      "metadata": {
        "id": "kZFruVNPJabD"
      },
      "outputs": [],
      "source": [
        "start_time = time.time()\n",
        "\n",
        "# Train Naive Bayes classifier\n",
        "fit_naive_bayes(first_150_iris_attributes, iris_target)\n",
        "\n",
        "end_time = time.time()\n",
        "\n",
        "# Calculate the runtime\n",
        "runtime = (end_time - start_time) * 1000\n",
        "\n",
        "y_iris.append(runtime)"
      ]
    },
    {
      "cell_type": "code",
      "execution_count": 93,
      "metadata": {
        "colab": {
          "base_uri": "https://localhost:8080/"
        },
        "id": "hBRurGKQJaYo",
        "outputId": "8a4dc16b-4700-4807-9b13-e70d546d4f81"
      },
      "outputs": [
        {
          "data": {
            "text/plain": [
              "[5.969762802124023,\n",
              " 11.627912521362305,\n",
              " 12.46023178100586,\n",
              " 14.26839828491211,\n",
              " 14.687299728393555,\n",
              " 12.426376342773438]"
            ]
          },
          "execution_count": 93,
          "metadata": {},
          "output_type": "execute_result"
        }
      ],
      "source": [
        "y_iris"
      ]
    },
    {
      "cell_type": "code",
      "execution_count": 94,
      "metadata": {
        "colab": {
          "base_uri": "https://localhost:8080/",
          "height": 472
        },
        "id": "BRw9a_IKJaWR",
        "outputId": "4e92433b-015b-4fb8-fff1-196e1b8ba356"
      },
      "outputs": [
        {
          "data": {
            "image/png": "[encoded data removed]",
            "text/plain": [
              "<Figure size 640x480 with 1 Axes>"
            ]
          },
          "metadata": {},
          "output_type": "display_data"
        }
      ],
      "source": [
        "import seaborn as sns\n",
        "import matplotlib.pyplot as plt\n",
        "\n",
        "sns.lineplot(x=x_iris, y=y_iris, marker='o')\n",
        "plt.xlabel('Input Size')\n",
        "plt.ylabel('Execution Time (milliseconds)')\n",
        "plt.title('Naive Bayes Time Complexity for Iris Dataset')\n",
        "plt.grid(True)\n",
        "plt.show()"
      ]
    },
    {
      "cell_type": "markdown",
      "metadata": {
        "id": "84C4eKnAJuh6"
      },
      "source": [
        "### Breast Cancer"
      ]
    },
    {
      "cell_type": "code",
      "execution_count": 95,
      "metadata": {
        "id": "ppPeUeh9Jw5W"
      },
      "outputs": [],
      "source": [
        "x_breastCancer = [100,200,300,400,500,569]\n",
        "y_breastCancer=[]"
      ]
    },
    {
      "cell_type": "code",
      "execution_count": 96,
      "metadata": {
        "id": "tBT-_-zcJ-yb"
      },
      "outputs": [],
      "source": [
        "# Separate features and target variable\n",
        "breastCancer_attributes = breast_cancer_data.drop(columns=['target'])\n",
        "breastCancer_target = breast_cancer_data['target']"
      ]
    },
    {
      "cell_type": "code",
      "execution_count": 97,
      "metadata": {
        "id": "r7Mm5c9-J-vl"
      },
      "outputs": [],
      "source": [
        "# Selecting rows\n",
        "first_100_breastCancer_attributes = iris_attributes.iloc[:100]\n",
        "first_100_breastCancer_target = breastCancer_target.iloc[:100]\n",
        "\n",
        "\n",
        "first_200_breastCancer_attributes = iris_attributes.iloc[:200]\n",
        "first_200_breastCancer_target = breastCancer_target.iloc[:200]\n",
        "\n",
        "\n",
        "first_300_breastCancer_attributes = iris_attributes.iloc[:300]\n",
        "first_300_breastCancer_target = breastCancer_target.iloc[:300]\n",
        "\n",
        "\n",
        "first_400_breastCancer_attributes = iris_attributes.iloc[:400]\n",
        "first_400_breastCancer_target = breastCancer_target.iloc[:400]\n",
        "\n",
        "\n",
        "first_500_breastCancer_attributes = iris_attributes.iloc[:500]\n",
        "first_500_breastCancer_target = breastCancer_target.iloc[:500]\n",
        "\n",
        "\n",
        "first_breastCancer_attributes = iris_attributes\n",
        "first_breastCancer_target = breastCancer_target"
      ]
    },
    {
      "cell_type": "code",
      "execution_count": 98,
      "metadata": {
        "id": "utLa6gRIJ-tw"
      },
      "outputs": [],
      "source": [
        "start_time = time.time()\n",
        "\n",
        "# Train Naive Bayes classifier\n",
        "fit_naive_bayes(first_100_breastCancer_attributes, first_100_breastCancer_target)\n",
        "\n",
        "end_time = time.time()\n",
        "\n",
        "# Calculate the runtime\n",
        "runtime = (end_time - start_time)*1000\n",
        "y_breastCancer.append(runtime)"
      ]
    },
    {
      "cell_type": "code",
      "execution_count": 99,
      "metadata": {
        "colab": {
          "base_uri": "https://localhost:8080/"
        },
        "id": "wpJtNeQzJ-o0",
        "outputId": "398f55af-cd7a-4d4a-92b0-db7a9d9cde8b"
      },
      "outputs": [
        {
          "name": "stderr",
          "output_type": "stream",
          "text": [
            "/tmp/ipykernel_696549/2171478947.py:15: UserWarning: Boolean Series key will be reindexed to match DataFrame index.\n",
            "  target_subset = attributes[target == target_label][feature]\n",
            "/tmp/ipykernel_696549/2171478947.py:15: UserWarning: Boolean Series key will be reindexed to match DataFrame index.\n",
            "  target_subset = attributes[target == target_label][feature]\n",
            "/tmp/ipykernel_696549/2171478947.py:15: UserWarning: Boolean Series key will be reindexed to match DataFrame index.\n",
            "  target_subset = attributes[target == target_label][feature]\n",
            "/tmp/ipykernel_696549/2171478947.py:15: UserWarning: Boolean Series key will be reindexed to match DataFrame index.\n",
            "  target_subset = attributes[target == target_label][feature]\n",
            "/tmp/ipykernel_696549/2171478947.py:15: UserWarning: Boolean Series key will be reindexed to match DataFrame index.\n",
            "  target_subset = attributes[target == target_label][feature]\n",
            "/tmp/ipykernel_696549/2171478947.py:15: UserWarning: Boolean Series key will be reindexed to match DataFrame index.\n",
            "  target_subset = attributes[target == target_label][feature]\n",
            "/tmp/ipykernel_696549/2171478947.py:15: UserWarning: Boolean Series key will be reindexed to match DataFrame index.\n",
            "  target_subset = attributes[target == target_label][feature]\n",
            "/tmp/ipykernel_696549/2171478947.py:15: UserWarning: Boolean Series key will be reindexed to match DataFrame index.\n",
            "  target_subset = attributes[target == target_label][feature]\n"
          ]
        }
      ],
      "source": [
        "start_time = time.time()\n",
        "\n",
        "# Train Naive Bayes classifier\n",
        "fit_naive_bayes(first_200_breastCancer_attributes, first_200_breastCancer_target)\n",
        "\n",
        "end_time = time.time()\n",
        "\n",
        "# Calculate the runtime\n",
        "runtime = (end_time - start_time)*1000\n",
        "\n",
        "y_breastCancer.append(runtime)"
      ]
    },
    {
      "cell_type": "code",
      "execution_count": 100,
      "metadata": {
        "colab": {
          "base_uri": "https://localhost:8080/"
        },
        "id": "OS1EzOw9J-mP",
        "outputId": "2466043b-10e5-4f8f-9192-5436e8529b57"
      },
      "outputs": [
        {
          "name": "stderr",
          "output_type": "stream",
          "text": [
            "/tmp/ipykernel_696549/2171478947.py:15: UserWarning: Boolean Series key will be reindexed to match DataFrame index.\n",
            "  target_subset = attributes[target == target_label][feature]\n",
            "/tmp/ipykernel_696549/2171478947.py:15: UserWarning: Boolean Series key will be reindexed to match DataFrame index.\n",
            "  target_subset = attributes[target == target_label][feature]\n",
            "/tmp/ipykernel_696549/2171478947.py:15: UserWarning: Boolean Series key will be reindexed to match DataFrame index.\n",
            "  target_subset = attributes[target == target_label][feature]\n",
            "/tmp/ipykernel_696549/2171478947.py:15: UserWarning: Boolean Series key will be reindexed to match DataFrame index.\n",
            "  target_subset = attributes[target == target_label][feature]\n",
            "/tmp/ipykernel_696549/2171478947.py:15: UserWarning: Boolean Series key will be reindexed to match DataFrame index.\n",
            "  target_subset = attributes[target == target_label][feature]\n",
            "/tmp/ipykernel_696549/2171478947.py:15: UserWarning: Boolean Series key will be reindexed to match DataFrame index.\n",
            "  target_subset = attributes[target == target_label][feature]\n",
            "/tmp/ipykernel_696549/2171478947.py:15: UserWarning: Boolean Series key will be reindexed to match DataFrame index.\n",
            "  target_subset = attributes[target == target_label][feature]\n",
            "/tmp/ipykernel_696549/2171478947.py:15: UserWarning: Boolean Series key will be reindexed to match DataFrame index.\n",
            "  target_subset = attributes[target == target_label][feature]\n"
          ]
        }
      ],
      "source": [
        "start_time = time.time()\n",
        "\n",
        "# Train Naive Bayes classifier\n",
        "fit_naive_bayes(first_300_breastCancer_attributes, first_300_breastCancer_target)\n",
        "\n",
        "end_time = time.time()\n",
        "\n",
        "# Calculate the runtime\n",
        "runtime = (end_time - start_time)*1000\n",
        "\n",
        "y_breastCancer.append(runtime)"
      ]
    },
    {
      "cell_type": "code",
      "execution_count": 101,
      "metadata": {
        "colab": {
          "base_uri": "https://localhost:8080/"
        },
        "id": "aI1bwwWbJ-jw",
        "outputId": "10862390-5889-4ddd-e377-e077ad2c5a19"
      },
      "outputs": [
        {
          "name": "stderr",
          "output_type": "stream",
          "text": [
            "/tmp/ipykernel_696549/2171478947.py:15: UserWarning: Boolean Series key will be reindexed to match DataFrame index.\n",
            "  target_subset = attributes[target == target_label][feature]\n",
            "/tmp/ipykernel_696549/2171478947.py:15: UserWarning: Boolean Series key will be reindexed to match DataFrame index.\n",
            "  target_subset = attributes[target == target_label][feature]\n",
            "/tmp/ipykernel_696549/2171478947.py:15: UserWarning: Boolean Series key will be reindexed to match DataFrame index.\n",
            "  target_subset = attributes[target == target_label][feature]\n",
            "/tmp/ipykernel_696549/2171478947.py:15: UserWarning: Boolean Series key will be reindexed to match DataFrame index.\n",
            "  target_subset = attributes[target == target_label][feature]\n",
            "/tmp/ipykernel_696549/2171478947.py:15: UserWarning: Boolean Series key will be reindexed to match DataFrame index.\n",
            "  target_subset = attributes[target == target_label][feature]\n",
            "/tmp/ipykernel_696549/2171478947.py:15: UserWarning: Boolean Series key will be reindexed to match DataFrame index.\n",
            "  target_subset = attributes[target == target_label][feature]\n",
            "/tmp/ipykernel_696549/2171478947.py:15: UserWarning: Boolean Series key will be reindexed to match DataFrame index.\n",
            "  target_subset = attributes[target == target_label][feature]\n",
            "/tmp/ipykernel_696549/2171478947.py:15: UserWarning: Boolean Series key will be reindexed to match DataFrame index.\n",
            "  target_subset = attributes[target == target_label][feature]\n"
          ]
        }
      ],
      "source": [
        "start_time = time.time()\n",
        "\n",
        "# Train Naive Bayes classifier\n",
        "fit_naive_bayes(first_400_breastCancer_attributes, first_400_breastCancer_target)\n",
        "\n",
        "end_time = time.time()\n",
        "\n",
        "# Calculate the runtime\n",
        "runtime = (end_time - start_time)*1000\n",
        "\n",
        "y_breastCancer.append(runtime)"
      ]
    },
    {
      "cell_type": "code",
      "execution_count": 102,
      "metadata": {
        "colab": {
          "base_uri": "https://localhost:8080/"
        },
        "id": "TvFVNhssJ-bO",
        "outputId": "4dd0c7b6-b8ef-4b76-9e4a-25dbccda526b"
      },
      "outputs": [
        {
          "name": "stderr",
          "output_type": "stream",
          "text": [
            "/tmp/ipykernel_696549/2171478947.py:15: UserWarning: Boolean Series key will be reindexed to match DataFrame index.\n",
            "  target_subset = attributes[target == target_label][feature]\n",
            "/tmp/ipykernel_696549/2171478947.py:15: UserWarning: Boolean Series key will be reindexed to match DataFrame index.\n",
            "  target_subset = attributes[target == target_label][feature]\n",
            "/tmp/ipykernel_696549/2171478947.py:15: UserWarning: Boolean Series key will be reindexed to match DataFrame index.\n",
            "  target_subset = attributes[target == target_label][feature]\n",
            "/tmp/ipykernel_696549/2171478947.py:15: UserWarning: Boolean Series key will be reindexed to match DataFrame index.\n",
            "  target_subset = attributes[target == target_label][feature]\n",
            "/tmp/ipykernel_696549/2171478947.py:15: UserWarning: Boolean Series key will be reindexed to match DataFrame index.\n",
            "  target_subset = attributes[target == target_label][feature]\n",
            "/tmp/ipykernel_696549/2171478947.py:15: UserWarning: Boolean Series key will be reindexed to match DataFrame index.\n",
            "  target_subset = attributes[target == target_label][feature]\n",
            "/tmp/ipykernel_696549/2171478947.py:15: UserWarning: Boolean Series key will be reindexed to match DataFrame index.\n",
            "  target_subset = attributes[target == target_label][feature]\n",
            "/tmp/ipykernel_696549/2171478947.py:15: UserWarning: Boolean Series key will be reindexed to match DataFrame index.\n",
            "  target_subset = attributes[target == target_label][feature]\n"
          ]
        }
      ],
      "source": [
        "start_time = time.time()\n",
        "\n",
        "# Train Naive Bayes classifier\n",
        "fit_naive_bayes(first_500_breastCancer_attributes, first_500_breastCancer_target)\n",
        "\n",
        "end_time = time.time()\n",
        "\n",
        "# Calculate the runtime\n",
        "runtime = (end_time - start_time)*1000\n",
        "\n",
        "y_breastCancer.append(runtime)"
      ]
    },
    {
      "cell_type": "code",
      "execution_count": 103,
      "metadata": {
        "colab": {
          "base_uri": "https://localhost:8080/"
        },
        "id": "Dlksh8csTdIv",
        "outputId": "64913196-68bb-40f8-fa5d-5123fb6ba86c"
      },
      "outputs": [
        {
          "name": "stderr",
          "output_type": "stream",
          "text": [
            "/tmp/ipykernel_696549/2171478947.py:15: UserWarning: Boolean Series key will be reindexed to match DataFrame index.\n",
            "  target_subset = attributes[target == target_label][feature]\n",
            "/tmp/ipykernel_696549/2171478947.py:15: UserWarning: Boolean Series key will be reindexed to match DataFrame index.\n",
            "  target_subset = attributes[target == target_label][feature]\n",
            "/tmp/ipykernel_696549/2171478947.py:15: UserWarning: Boolean Series key will be reindexed to match DataFrame index.\n",
            "  target_subset = attributes[target == target_label][feature]\n",
            "/tmp/ipykernel_696549/2171478947.py:15: UserWarning: Boolean Series key will be reindexed to match DataFrame index.\n",
            "  target_subset = attributes[target == target_label][feature]\n",
            "/tmp/ipykernel_696549/2171478947.py:15: UserWarning: Boolean Series key will be reindexed to match DataFrame index.\n",
            "  target_subset = attributes[target == target_label][feature]\n",
            "/tmp/ipykernel_696549/2171478947.py:15: UserWarning: Boolean Series key will be reindexed to match DataFrame index.\n",
            "  target_subset = attributes[target == target_label][feature]\n",
            "/tmp/ipykernel_696549/2171478947.py:15: UserWarning: Boolean Series key will be reindexed to match DataFrame index.\n",
            "  target_subset = attributes[target == target_label][feature]\n",
            "/tmp/ipykernel_696549/2171478947.py:15: UserWarning: Boolean Series key will be reindexed to match DataFrame index.\n",
            "  target_subset = attributes[target == target_label][feature]\n"
          ]
        }
      ],
      "source": [
        "start_time = time.time()\n",
        "\n",
        "# Train Naive Bayes classifier\n",
        "fit_naive_bayes(first_breastCancer_attributes, first_breastCancer_target)\n",
        "\n",
        "end_time = time.time()\n",
        "\n",
        "# Calculate the runtime\n",
        "runtime = (end_time - start_time)*1000\n",
        "\n",
        "y_breastCancer.append(runtime)"
      ]
    },
    {
      "cell_type": "code",
      "execution_count": 104,
      "metadata": {
        "colab": {
          "base_uri": "https://localhost:8080/"
        },
        "id": "t1NV-ujsTdF7",
        "outputId": "643c8d4a-2ed5-47af-bee8-725146bd5ab6"
      },
      "outputs": [
        {
          "data": {
            "text/plain": [
              "[8.179664611816406,\n",
              " 13.913393020629883,\n",
              " 15.156269073486328,\n",
              " 16.529321670532227,\n",
              " 16.444921493530273,\n",
              " 16.101598739624023]"
            ]
          },
          "execution_count": 104,
          "metadata": {},
          "output_type": "execute_result"
        }
      ],
      "source": [
        "y_breastCancer"
      ]
    },
    {
      "cell_type": "code",
      "execution_count": 105,
      "metadata": {
        "colab": {
          "base_uri": "https://localhost:8080/",
          "height": 472
        },
        "id": "HVWuSb8LTdDg",
        "outputId": "232472db-de30-411f-d729-f63e292bd438"
      },
      "outputs": [
        {
          "data": {
            "image/png": "[encoded data removed]",
            "text/plain": [
              "<Figure size 640x480 with 1 Axes>"
            ]
          },
          "metadata": {},
          "output_type": "display_data"
        }
      ],
      "source": [
        "import seaborn as sns\n",
        "import matplotlib.pyplot as plt\n",
        "\n",
        "sns.lineplot(x=x_breastCancer, y=y_breastCancer, marker='o')\n",
        "plt.xlabel('Input Size')\n",
        "plt.ylabel('Execution Time (milliseconds)')\n",
        "plt.title('Naive Bayes Time Complexity for Breast CAncer Dataset')\n",
        "plt.grid(True)\n",
        "plt.show()"
      ]
    },
    {
      "cell_type": "code",
      "execution_count": null,
      "metadata": {
        "id": "5y2lGaxnTdAs"
      },
      "outputs": [],
      "source": []
    },
    {
      "cell_type": "code",
      "execution_count": null,
      "metadata": {
        "id": "r3eTWlsZaCIX"
      },
      "outputs": [],
      "source": []
    },
    {
      "cell_type": "code",
      "execution_count": null,
      "metadata": {
        "id": "_Y7Q5Os_Tc99"
      },
      "outputs": [],
      "source": []
    },
    {
      "cell_type": "code",
      "execution_count": 106,
      "metadata": {
        "colab": {
          "base_uri": "https://localhost:8080/",
          "height": 472
        },
        "id": "_Oak2PgrVE5C",
        "outputId": "02683751-a8ac-47aa-cca9-cbe9d83b46c2"
      },
      "outputs": [
        {
          "data": {
            "image/png": "[encoded data removed]",
            "text/plain": [
              "<Figure size 640x480 with 1 Axes>"
            ]
          },
          "metadata": {},
          "output_type": "display_data"
        }
      ],
      "source": [
        "# Plot for C4.5 Algorithm\n",
        "sns.lineplot(x=iris_n, y=iris_execution_time, marker='o', label='C4.5')\n",
        "\n",
        "# Plot for Naive Bayes Algorithm\n",
        "sns.lineplot(x=x_iris, y=y_iris, marker='o', label='Naive Bayes')\n",
        "\n",
        "plt.xlabel('Input Size')\n",
        "plt.ylabel('Execution Time (milliseconds)')\n",
        "plt.title('Time Complexity for Iris Dataset: C4.5 vs Naive Bayes')\n",
        "plt.legend()\n",
        "plt.grid(True)\n",
        "plt.show()\n"
      ]
    },
    {
      "cell_type": "code",
      "execution_count": 107,
      "metadata": {
        "colab": {
          "base_uri": "https://localhost:8080/",
          "height": 472
        },
        "id": "eSjoSZlocVPS",
        "outputId": "abb762e4-053b-4216-aae1-3700d62e4c74"
      },
      "outputs": [
        {
          "data": {
            "image/png": "[encoded data removed]",
            "text/plain": [
              "<Figure size 640x480 with 1 Axes>"
            ]
          },
          "metadata": {},
          "output_type": "display_data"
        }
      ],
      "source": [
        "# Plot for C4.5 Algorithm\n",
        "sns.lineplot(x=breast_cancer_n, y=breast_cancer_execution_time, marker='o', label='C4.5')\n",
        "\n",
        "# Plot for Naive Bayes Algorithm\n",
        "sns.lineplot(x=x_breastCancer, y=y_breastCancer, marker='o', label='Naive Bayes')\n",
        "\n",
        "plt.xlabel('Input Size')\n",
        "plt.ylabel('Execution Time (milliseconds)')\n",
        "plt.title('Time Complexity for Breast Cancer Dataset: C4.5 vs Naive Bayes')\n",
        "plt.legend()\n",
        "plt.grid(True)\n",
        "plt.show()\n"
      ]
    }
  ],
  "metadata": {
    "colab": {
      "provenance": []
    },
    "kernelspec": {
      "display_name": "Python 3 (ipykernel)",
      "language": "python",
      "name": "python3"
    },
    "language_info": {
      "codemirror_mode": {
        "name": "ipython",
        "version": 3
      },
      "file_extension": ".py",
      "mimetype": "text/x-python",
      "name": "python",
      "nbconvert_exporter": "python",
      "pygments_lexer": "ipython3",
      "version": "3.12.2"
    }
  },
  "nbformat": 4,
  "nbformat_minor": 0
}
